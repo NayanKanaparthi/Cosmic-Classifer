{
 "cells": [
  {
   "cell_type": "code",
   "execution_count": 4,
   "id": "8abe134c",
   "metadata": {},
   "outputs": [],
   "source": [
    "import pandas as pd\n",
    "import numpy as np\n",
    "from sklearn.model_selection import train_test_split, cross_val_score, GridSearchCV,RandomizedSearchCV\n",
    "from sklearn.ensemble import RandomForestClassifier\n",
    "from sklearn.metrics import classification_report, accuracy_score, confusion_matrix\n",
    "from sklearn.preprocessing import StandardScaler\n",
    "import pickle"
   ]
  },
  {
   "cell_type": "code",
   "execution_count": null,
   "id": "8c71c8fe",
   "metadata": {},
   "outputs": [],
   "source": [
    "data = pd.read_csv(\"cumulative.csv\")\n",
    "print(data.columns)"
   ]
  },
  {
   "cell_type": "code",
   "execution_count": null,
   "id": "4d81d391",
   "metadata": {},
   "outputs": [],
   "source": [
    "print(data.info())"
   ]
  },
  {
   "cell_type": "code",
   "execution_count": null,
   "id": "9a0b1082",
   "metadata": {},
   "outputs": [],
   "source": [
    "data.isnull().any()"
   ]
  },
  {
   "cell_type": "code",
   "execution_count": null,
   "id": "fdec9d57",
   "metadata": {},
   "outputs": [],
   "source": [
    "transit_related_features = ['koi_period', 'koi_duration', 'koi_depth', 'koi_impact', 'koi_prad', 'koi_model_snr']\n",
    "stellar_features = ['koi_steff', 'koi_slogg', 'koi_srad', 'koi_kepmag']\n",
    "useful_features = transit_related_features + stellar_features + ['koi_score', 'koi_disposition', 'koi_pdisposition']"
   ]
  },
  {
   "cell_type": "code",
   "execution_count": null,
   "id": "809b294a",
   "metadata": {},
   "outputs": [],
   "source": [
    "data = data[useful_features]"
   ]
  },
  {
   "cell_type": "code",
   "execution_count": null,
   "id": "d4ce70e6",
   "metadata": {},
   "outputs": [],
   "source": [
    "data.isnull().any()"
   ]
  },
  {
   "cell_type": "code",
   "execution_count": null,
   "id": "52d0272f",
   "metadata": {},
   "outputs": [],
   "source": [
    "data.fillna(data.median(),inplace=True)"
   ]
  },
  {
   "cell_type": "code",
   "execution_count": null,
   "id": "f852e3fb",
   "metadata": {},
   "outputs": [],
   "source": [
    "data.isnull().any()"
   ]
  },
  {
   "cell_type": "code",
   "execution_count": null,
   "id": "1c5726d6",
   "metadata": {},
   "outputs": [],
   "source": [
    "data.head()"
   ]
  },
  {
   "cell_type": "code",
   "execution_count": null,
   "id": "b19c73c4",
   "metadata": {},
   "outputs": [],
   "source": [
    "def get_combined_disposition(row):\n",
    "    if row['koi_disposition'] == 'CONFIRMED':\n",
    "        return 2  # Confirmed exoplanet\n",
    "    elif row['koi_pdisposition'] == 'CANDIDATE':\n",
    "        return 1  # Candidate exoplanet\n",
    "    else:\n",
    "        return 0  # False positive\n",
    "\n",
    "\n",
    "data['confirmation_label'] = data.apply(get_combined_disposition, axis=1)"
   ]
  },
  {
   "cell_type": "code",
   "execution_count": null,
   "id": "5ea662f7",
   "metadata": {},
   "outputs": [],
   "source": [
    "bins=[0,0.33,0.66,1.0]\n",
    "labels = [\"low\",\"medium\",\"high\"]\n",
    "data['confidence_label']=pd.cut(data['koi_score'],bins=bins,labels=labels,right=True)\n",
    "data.loc[data['koi_score'] == 0, 'confidence_label'] = 'low'\n",
    "data"
   ]
  },
  {
   "cell_type": "code",
   "execution_count": null,
   "id": "3916f992",
   "metadata": {},
   "outputs": [],
   "source": [
    "data[\"confidence_label\"]=data[\"confidence_label\"].map({\n",
    "    'low':0,\n",
    "    'medium':1,\n",
    "    'high':2\n",
    "})\n",
    "\n",
    "data"
   ]
  },
  {
   "cell_type": "code",
   "execution_count": null,
   "id": "2a2cd4f1",
   "metadata": {},
   "outputs": [],
   "source": [
    "X = data[transit_related_features+ stellar_features]"
   ]
  },
  {
   "cell_type": "code",
   "execution_count": null,
   "id": "e4551d57",
   "metadata": {},
   "outputs": [],
   "source": [
    "scaler = StandardScaler()\n",
    "X_scaled= scaler.fit_transform(X)"
   ]
  },
  {
   "cell_type": "code",
   "execution_count": null,
   "id": "94c5dd98",
   "metadata": {},
   "outputs": [],
   "source": [
    "X_train_conf,X_test_conf,y_train_conf,y_test_conf = train_test_split(X_scaled,data['confirmation_label'],test_size=0.2,random_state=42)\n",
    "X_train_confidence,X_test_confidence,y_train_confidence,y_test_confidence = train_test_split(X_scaled,data['confidence_label'],test_size=0.2,random_state=42)"
   ]
  },
  {
   "cell_type": "code",
   "execution_count": null,
   "id": "644064f0",
   "metadata": {},
   "outputs": [],
   "source": [
    "rf_model_conf = RandomForestClassifier(random_state=42)\n",
    "rf_model_confidence =RandomForestClassifier(random_state=42)"
   ]
  },
  {
   "cell_type": "code",
   "execution_count": 21,
   "id": "e66a9a19",
   "metadata": {},
   "outputs": [
    {
     "data": {
      "text/html": [
       "<style>#sk-container-id-1 {color: black;}#sk-container-id-1 pre{padding: 0;}#sk-container-id-1 div.sk-toggleable {background-color: white;}#sk-container-id-1 label.sk-toggleable__label {cursor: pointer;display: block;width: 100%;margin-bottom: 0;padding: 0.3em;box-sizing: border-box;text-align: center;}#sk-container-id-1 label.sk-toggleable__label-arrow:before {content: \"▸\";float: left;margin-right: 0.25em;color: #696969;}#sk-container-id-1 label.sk-toggleable__label-arrow:hover:before {color: black;}#sk-container-id-1 div.sk-estimator:hover label.sk-toggleable__label-arrow:before {color: black;}#sk-container-id-1 div.sk-toggleable__content {max-height: 0;max-width: 0;overflow: hidden;text-align: left;background-color: #f0f8ff;}#sk-container-id-1 div.sk-toggleable__content pre {margin: 0.2em;color: black;border-radius: 0.25em;background-color: #f0f8ff;}#sk-container-id-1 input.sk-toggleable__control:checked~div.sk-toggleable__content {max-height: 200px;max-width: 100%;overflow: auto;}#sk-container-id-1 input.sk-toggleable__control:checked~label.sk-toggleable__label-arrow:before {content: \"▾\";}#sk-container-id-1 div.sk-estimator input.sk-toggleable__control:checked~label.sk-toggleable__label {background-color: #d4ebff;}#sk-container-id-1 div.sk-label input.sk-toggleable__control:checked~label.sk-toggleable__label {background-color: #d4ebff;}#sk-container-id-1 input.sk-hidden--visually {border: 0;clip: rect(1px 1px 1px 1px);clip: rect(1px, 1px, 1px, 1px);height: 1px;margin: -1px;overflow: hidden;padding: 0;position: absolute;width: 1px;}#sk-container-id-1 div.sk-estimator {font-family: monospace;background-color: #f0f8ff;border: 1px dotted black;border-radius: 0.25em;box-sizing: border-box;margin-bottom: 0.5em;}#sk-container-id-1 div.sk-estimator:hover {background-color: #d4ebff;}#sk-container-id-1 div.sk-parallel-item::after {content: \"\";width: 100%;border-bottom: 1px solid gray;flex-grow: 1;}#sk-container-id-1 div.sk-label:hover label.sk-toggleable__label {background-color: #d4ebff;}#sk-container-id-1 div.sk-serial::before {content: \"\";position: absolute;border-left: 1px solid gray;box-sizing: border-box;top: 0;bottom: 0;left: 50%;z-index: 0;}#sk-container-id-1 div.sk-serial {display: flex;flex-direction: column;align-items: center;background-color: white;padding-right: 0.2em;padding-left: 0.2em;position: relative;}#sk-container-id-1 div.sk-item {position: relative;z-index: 1;}#sk-container-id-1 div.sk-parallel {display: flex;align-items: stretch;justify-content: center;background-color: white;position: relative;}#sk-container-id-1 div.sk-item::before, #sk-container-id-1 div.sk-parallel-item::before {content: \"\";position: absolute;border-left: 1px solid gray;box-sizing: border-box;top: 0;bottom: 0;left: 50%;z-index: -1;}#sk-container-id-1 div.sk-parallel-item {display: flex;flex-direction: column;z-index: 1;position: relative;background-color: white;}#sk-container-id-1 div.sk-parallel-item:first-child::after {align-self: flex-end;width: 50%;}#sk-container-id-1 div.sk-parallel-item:last-child::after {align-self: flex-start;width: 50%;}#sk-container-id-1 div.sk-parallel-item:only-child::after {width: 0;}#sk-container-id-1 div.sk-dashed-wrapped {border: 1px dashed gray;margin: 0 0.4em 0.5em 0.4em;box-sizing: border-box;padding-bottom: 0.4em;background-color: white;}#sk-container-id-1 div.sk-label label {font-family: monospace;font-weight: bold;display: inline-block;line-height: 1.2em;}#sk-container-id-1 div.sk-label-container {text-align: center;}#sk-container-id-1 div.sk-container {/* jupyter's `normalize.less` sets `[hidden] { display: none; }` but bootstrap.min.css set `[hidden] { display: none !important; }` so we also need the `!important` here to be able to override the default hidden behavior on the sphinx rendered scikit-learn.org. See: https://github.com/scikit-learn/scikit-learn/issues/21755 */display: inline-block !important;position: relative;}#sk-container-id-1 div.sk-text-repr-fallback {display: none;}</style><div id=\"sk-container-id-1\" class=\"sk-top-container\"><div class=\"sk-text-repr-fallback\"><pre>RandomForestClassifier(random_state=42)</pre><b>In a Jupyter environment, please rerun this cell to show the HTML representation or trust the notebook. <br />On GitHub, the HTML representation is unable to render, please try loading this page with nbviewer.org.</b></div><div class=\"sk-container\" hidden><div class=\"sk-item\"><div class=\"sk-estimator sk-toggleable\"><input class=\"sk-toggleable__control sk-hidden--visually\" id=\"sk-estimator-id-1\" type=\"checkbox\" checked><label for=\"sk-estimator-id-1\" class=\"sk-toggleable__label sk-toggleable__label-arrow\">RandomForestClassifier</label><div class=\"sk-toggleable__content\"><pre>RandomForestClassifier(random_state=42)</pre></div></div></div></div></div>"
      ],
      "text/plain": [
       "RandomForestClassifier(random_state=42)"
      ]
     },
     "execution_count": 21,
     "metadata": {},
     "output_type": "execute_result"
    }
   ],
   "source": [
    "rf_model_conf.fit(X_train_conf,y_train_conf)\n",
    "rf_model_confidence.fit(X_train_confidence,y_train_confidence)"
   ]
  },
  {
   "cell_type": "code",
   "execution_count": 22,
   "id": "1c3a3fdc",
   "metadata": {},
   "outputs": [],
   "source": [
    "y_pred_conf = rf_model_conf.predict(X_test_conf)\n",
    "y_pred_confidence = rf_model_confidence.predict(X_test_confidence)"
   ]
  },
  {
   "cell_type": "code",
   "execution_count": 23,
   "id": "94e79afe",
   "metadata": {},
   "outputs": [
    {
     "name": "stdout",
     "output_type": "stream",
     "text": [
      "Exoplanet Confirmation:\n",
      "Accuracy: 0.7689492943021432\n",
      "Confusion Matrix:\n",
      " [[873  84  51]\n",
      " [144 211  96]\n",
      " [ 20  47 387]]\n",
      "Classification Report:\n",
      "               precision    recall  f1-score   support\n",
      "\n",
      "           0       0.84      0.87      0.85      1008\n",
      "           1       0.62      0.47      0.53       451\n",
      "           2       0.72      0.85      0.78       454\n",
      "\n",
      "    accuracy                           0.77      1913\n",
      "   macro avg       0.73      0.73      0.72      1913\n",
      "weighted avg       0.76      0.77      0.76      1913\n",
      "\n",
      "\n",
      "Disposition Confidence:\n",
      "Accuracy: 0.7935180345007841\n",
      "Confusion Matrix:\n",
      " [[634  56 120]\n",
      " [ 72 217  58]\n",
      " [ 62  27 667]]\n",
      "Classification Report:\n",
      "               precision    recall  f1-score   support\n",
      "\n",
      "           0       0.83      0.78      0.80       810\n",
      "           1       0.72      0.63      0.67       347\n",
      "           2       0.79      0.88      0.83       756\n",
      "\n",
      "    accuracy                           0.79      1913\n",
      "   macro avg       0.78      0.76      0.77      1913\n",
      "weighted avg       0.79      0.79      0.79      1913\n",
      "\n"
     ]
    }
   ],
   "source": [
    "print(\"Exoplanet Confirmation:\")\n",
    "print(\"Accuracy:\", accuracy_score(y_test_conf, y_pred_conf))\n",
    "print(\"Confusion Matrix:\\n\", confusion_matrix(y_test_conf, y_pred_conf))\n",
    "print(\"Classification Report:\\n\", classification_report(y_test_conf, y_pred_conf))\n",
    "\n",
    "print(\"\\nDisposition Confidence:\")\n",
    "print(\"Accuracy:\", accuracy_score(y_test_confidence, y_pred_confidence))\n",
    "print(\"Confusion Matrix:\\n\", confusion_matrix(y_test_confidence, y_pred_confidence))\n",
    "print(\"Classification Report:\\n\", classification_report(y_test_confidence, y_pred_confidence))"
   ]
  },
  {
   "cell_type": "code",
   "execution_count": 24,
   "id": "66aa8a11",
   "metadata": {},
   "outputs": [
    {
     "name": "stdout",
     "output_type": "stream",
     "text": [
      "Fitting 3 folds for each of 10 candidates, totalling 30 fits\n",
      "\n",
      "Best parameters (Exoplanet Confirmation): {'n_estimators': 100, 'min_samples_split': 5, 'min_samples_leaf': 2, 'max_depth': None, 'bootstrap': True}\n"
     ]
    },
    {
     "data": {
      "text/html": [
       "<style>#sk-container-id-2 {color: black;}#sk-container-id-2 pre{padding: 0;}#sk-container-id-2 div.sk-toggleable {background-color: white;}#sk-container-id-2 label.sk-toggleable__label {cursor: pointer;display: block;width: 100%;margin-bottom: 0;padding: 0.3em;box-sizing: border-box;text-align: center;}#sk-container-id-2 label.sk-toggleable__label-arrow:before {content: \"▸\";float: left;margin-right: 0.25em;color: #696969;}#sk-container-id-2 label.sk-toggleable__label-arrow:hover:before {color: black;}#sk-container-id-2 div.sk-estimator:hover label.sk-toggleable__label-arrow:before {color: black;}#sk-container-id-2 div.sk-toggleable__content {max-height: 0;max-width: 0;overflow: hidden;text-align: left;background-color: #f0f8ff;}#sk-container-id-2 div.sk-toggleable__content pre {margin: 0.2em;color: black;border-radius: 0.25em;background-color: #f0f8ff;}#sk-container-id-2 input.sk-toggleable__control:checked~div.sk-toggleable__content {max-height: 200px;max-width: 100%;overflow: auto;}#sk-container-id-2 input.sk-toggleable__control:checked~label.sk-toggleable__label-arrow:before {content: \"▾\";}#sk-container-id-2 div.sk-estimator input.sk-toggleable__control:checked~label.sk-toggleable__label {background-color: #d4ebff;}#sk-container-id-2 div.sk-label input.sk-toggleable__control:checked~label.sk-toggleable__label {background-color: #d4ebff;}#sk-container-id-2 input.sk-hidden--visually {border: 0;clip: rect(1px 1px 1px 1px);clip: rect(1px, 1px, 1px, 1px);height: 1px;margin: -1px;overflow: hidden;padding: 0;position: absolute;width: 1px;}#sk-container-id-2 div.sk-estimator {font-family: monospace;background-color: #f0f8ff;border: 1px dotted black;border-radius: 0.25em;box-sizing: border-box;margin-bottom: 0.5em;}#sk-container-id-2 div.sk-estimator:hover {background-color: #d4ebff;}#sk-container-id-2 div.sk-parallel-item::after {content: \"\";width: 100%;border-bottom: 1px solid gray;flex-grow: 1;}#sk-container-id-2 div.sk-label:hover label.sk-toggleable__label {background-color: #d4ebff;}#sk-container-id-2 div.sk-serial::before {content: \"\";position: absolute;border-left: 1px solid gray;box-sizing: border-box;top: 0;bottom: 0;left: 50%;z-index: 0;}#sk-container-id-2 div.sk-serial {display: flex;flex-direction: column;align-items: center;background-color: white;padding-right: 0.2em;padding-left: 0.2em;position: relative;}#sk-container-id-2 div.sk-item {position: relative;z-index: 1;}#sk-container-id-2 div.sk-parallel {display: flex;align-items: stretch;justify-content: center;background-color: white;position: relative;}#sk-container-id-2 div.sk-item::before, #sk-container-id-2 div.sk-parallel-item::before {content: \"\";position: absolute;border-left: 1px solid gray;box-sizing: border-box;top: 0;bottom: 0;left: 50%;z-index: -1;}#sk-container-id-2 div.sk-parallel-item {display: flex;flex-direction: column;z-index: 1;position: relative;background-color: white;}#sk-container-id-2 div.sk-parallel-item:first-child::after {align-self: flex-end;width: 50%;}#sk-container-id-2 div.sk-parallel-item:last-child::after {align-self: flex-start;width: 50%;}#sk-container-id-2 div.sk-parallel-item:only-child::after {width: 0;}#sk-container-id-2 div.sk-dashed-wrapped {border: 1px dashed gray;margin: 0 0.4em 0.5em 0.4em;box-sizing: border-box;padding-bottom: 0.4em;background-color: white;}#sk-container-id-2 div.sk-label label {font-family: monospace;font-weight: bold;display: inline-block;line-height: 1.2em;}#sk-container-id-2 div.sk-label-container {text-align: center;}#sk-container-id-2 div.sk-container {/* jupyter's `normalize.less` sets `[hidden] { display: none; }` but bootstrap.min.css set `[hidden] { display: none !important; }` so we also need the `!important` here to be able to override the default hidden behavior on the sphinx rendered scikit-learn.org. See: https://github.com/scikit-learn/scikit-learn/issues/21755 */display: inline-block !important;position: relative;}#sk-container-id-2 div.sk-text-repr-fallback {display: none;}</style><div id=\"sk-container-id-2\" class=\"sk-top-container\"><div class=\"sk-text-repr-fallback\"><pre>RandomForestClassifier(min_samples_leaf=2, min_samples_split=5, random_state=42)</pre><b>In a Jupyter environment, please rerun this cell to show the HTML representation or trust the notebook. <br />On GitHub, the HTML representation is unable to render, please try loading this page with nbviewer.org.</b></div><div class=\"sk-container\" hidden><div class=\"sk-item\"><div class=\"sk-estimator sk-toggleable\"><input class=\"sk-toggleable__control sk-hidden--visually\" id=\"sk-estimator-id-2\" type=\"checkbox\" checked><label for=\"sk-estimator-id-2\" class=\"sk-toggleable__label sk-toggleable__label-arrow\">RandomForestClassifier</label><div class=\"sk-toggleable__content\"><pre>RandomForestClassifier(min_samples_leaf=2, min_samples_split=5, random_state=42)</pre></div></div></div></div></div>"
      ],
      "text/plain": [
       "RandomForestClassifier(min_samples_leaf=2, min_samples_split=5, random_state=42)"
      ]
     },
     "execution_count": 24,
     "metadata": {},
     "output_type": "execute_result"
    }
   ],
   "source": [
    "# Simplified parameter grid\n",
    "param_grid = {\n",
    "    'n_estimators': [50, 100, 150],  # Fewer estimators to try\n",
    "    'max_depth': [None, 10, 20],  # Simplified depth range\n",
    "    'min_samples_split': [2, 5],  # Reduced options for min samples split\n",
    "    'min_samples_leaf': [1, 2],  # Reduced options for min samples leaf\n",
    "    'bootstrap': [True, False]  # Bootstrap options\n",
    "}\n",
    "\n",
    "# Set up RandomizedSearchCV\n",
    "randomized_search_conf = RandomizedSearchCV(\n",
    "    estimator=rf_model_conf,\n",
    "    param_distributions=param_grid,\n",
    "    n_iter=10,  # Limit the number of combinations to try\n",
    "    cv=3,\n",
    "    n_jobs=-1,\n",
    "    verbose=2,\n",
    "    random_state=42\n",
    ")\n",
    "\n",
    "# Run the randomized search\n",
    "randomized_search_conf.fit(X_train_conf, y_train_conf)\n",
    "\n",
    "# Get the best parameters\n",
    "print(\"\\nBest parameters (Exoplanet Confirmation):\", randomized_search_conf.best_params_)\n",
    "\n",
    "# Re-train with best parameters\n",
    "best_rf_model_conf = randomized_search_conf.best_estimator_\n",
    "best_rf_model_conf.fit(X_train_conf, y_train_conf)"
   ]
  },
  {
   "cell_type": "code",
   "execution_count": 25,
   "id": "1dd9abd4",
   "metadata": {},
   "outputs": [
    {
     "name": "stdout",
     "output_type": "stream",
     "text": [
      "\n",
      "Final Model Accuracy (Exoplanet Confirmation): 0.7584945112388918\n"
     ]
    }
   ],
   "source": [
    "y_final_pred_conf = best_rf_model_conf.predict(X_test_conf)\n",
    "print(\"\\nFinal Model Accuracy (Exoplanet Confirmation):\", accuracy_score(y_test_conf, y_final_pred_conf))\n"
   ]
  },
  {
   "cell_type": "code",
   "execution_count": 26,
   "id": "208bfc11",
   "metadata": {},
   "outputs": [
    {
     "data": {
      "image/png": "[encoded data removed]",
      "text/plain": [
       "<Figure size 640x480 with 1 Axes>"
      ]
     },
     "metadata": {},
     "output_type": "display_data"
    },
    {
     "data": {
      "image/png": "[encoded data removed]",
      "text/plain": [
       "<Figure size 640x480 with 2 Axes>"
      ]
     },
     "metadata": {},
     "output_type": "display_data"
    }
   ],
   "source": [
    "import matplotlib.pyplot as plt\n",
    "import seaborn as sns\n",
    "\n",
    "# Combine the feature names into a single list\n",
    "feature_names = transit_related_features + stellar_features\n",
    "\n",
    "# Get the importance of each feature\n",
    "importances = best_rf_model_conf.feature_importances_\n",
    "indices = np.argsort(importances)[::-1]  # Sort the feature importances in descending order\n",
    "\n",
    "# Plot the feature importances\n",
    "plt.figure()\n",
    "plt.title(\"Feature Importances (Exoplanet Confirmation)\")\n",
    "plt.bar(range(X.shape[1]), importances[indices], color=\"r\", align=\"center\")\n",
    "\n",
    "# Corrected line: Use the combined list for feature names\n",
    "plt.xticks(range(X.shape[1]), [feature_names[i] for i in indices], rotation=90)\n",
    "plt.show()\n",
    "# Confusion Matrix for the Final Model\n",
    "sns.heatmap(confusion_matrix(y_test_conf, y_final_pred_conf), annot=True, fmt=\"d\", cmap=\"Blues\")\n",
    "plt.title('Confusion Matrix (Exoplanet Confirmation)')\n",
    "plt.show()"
   ]
  },
  {
   "cell_type": "code",
   "execution_count": 27,
   "id": "2e7d0267",
   "metadata": {},
   "outputs": [],
   "source": [
    "\n",
    "# Save your trained stacking model\n",
    "with open('model/best_rf_model_conf.pkl', 'wb') as file:\n",
    "    pickle.dump(best_rf_model_conf, file)\n",
    "    \n",
    "scaler = StandardScaler()\n",
    "X_train_scaled = scaler.fit_transform(X_train_conf)\n",
    "\n",
    "# Save the scaler\n",
    "with open('model/scaler.pkl', 'wb') as f:\n",
    "    pickle.dump(scaler, f)"
   ]
  },
  {
   "cell_type": "code",
   "execution_count": null,
   "id": "3ecafa7f",
   "metadata": {},
   "outputs": [],
   "source": []
  }
 ],
 "metadata": {
  "kernelspec": {
   "display_name": "Python 3 (ipykernel)",
   "language": "python",
   "name": "python3"
  },
  "language_info": {
   "codemirror_mode": {
    "name": "ipython",
    "version": 3
   },
   "file_extension": ".py",
   "mimetype": "text/x-python",
   "name": "python",
   "nbconvert_exporter": "python",
   "pygments_lexer": "ipython3",
   "version": "3.11.3"
  }
 },
 "nbformat": 4,
 "nbformat_minor": 5
}
